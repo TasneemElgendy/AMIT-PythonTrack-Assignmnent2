{
 "cells": [
  {
   "cell_type": "markdown",
   "id": "3c7a8819",
   "metadata": {},
   "source": [
    "# Task1\n",
    "Write a Python program to add an item to a tuple."
   ]
  },
  {
   "cell_type": "code",
   "execution_count": 2,
   "id": "7bf26def",
   "metadata": {},
   "outputs": [],
   "source": [
    "t = (1,2,3,4,5,6)"
   ]
  },
  {
   "cell_type": "code",
   "execution_count": 3,
   "id": "c7bdd707",
   "metadata": {},
   "outputs": [],
   "source": [
    "lstt = list(t)"
   ]
  },
  {
   "cell_type": "code",
   "execution_count": 6,
   "id": "08695f73",
   "metadata": {},
   "outputs": [],
   "source": [
    "lstt.append(7)"
   ]
  },
  {
   "cell_type": "code",
   "execution_count": 7,
   "id": "e5ec5816",
   "metadata": {},
   "outputs": [],
   "source": [
    "t = tuple(lstt)"
   ]
  },
  {
   "cell_type": "code",
   "execution_count": 8,
   "id": "c5f55dfc",
   "metadata": {},
   "outputs": [
    {
     "name": "stdout",
     "output_type": "stream",
     "text": [
      "(1, 2, 3, 4, 5, 6, 7)\n"
     ]
    }
   ],
   "source": [
    "print (t)"
   ]
  },
  {
   "cell_type": "markdown",
   "id": "a2932652",
   "metadata": {},
   "source": [
    "# Task2\n",
    "Write a Python program to sum all the items in a list."
   ]
  },
  {
   "cell_type": "code",
   "execution_count": 12,
   "id": "17cc806d",
   "metadata": {},
   "outputs": [],
   "source": [
    "lst1 = [1,2,3,4,5,6,10]"
   ]
  },
  {
   "cell_type": "code",
   "execution_count": 13,
   "id": "76b70459",
   "metadata": {},
   "outputs": [],
   "source": [
    "total = sum(lst1)"
   ]
  },
  {
   "cell_type": "code",
   "execution_count": 14,
   "id": "214e6879",
   "metadata": {},
   "outputs": [
    {
     "name": "stdout",
     "output_type": "stream",
     "text": [
      "31\n"
     ]
    }
   ],
   "source": [
    "print (total)"
   ]
  },
  {
   "cell_type": "markdown",
   "id": "9439fccd",
   "metadata": {},
   "source": [
    "# Task3\n",
    "Write a Python program to multiply all the items in a list."
   ]
  },
  {
   "cell_type": "code",
   "execution_count": null,
   "id": "1b6571af",
   "metadata": {},
   "outputs": [],
   "source": [
    "                                               #first solution  :"
   ]
  },
  {
   "cell_type": "code",
   "execution_count": 15,
   "id": "7bd57bb5",
   "metadata": {},
   "outputs": [],
   "source": [
    "import math                                "
   ]
  },
  {
   "cell_type": "code",
   "execution_count": 16,
   "id": "1a78c4ab",
   "metadata": {},
   "outputs": [],
   "source": [
    "result = math.prod(lst1)"
   ]
  },
  {
   "cell_type": "code",
   "execution_count": 17,
   "id": "926abf70",
   "metadata": {},
   "outputs": [
    {
     "name": "stdout",
     "output_type": "stream",
     "text": [
      "7200\n"
     ]
    }
   ],
   "source": [
    "print(result)"
   ]
  },
  {
   "cell_type": "code",
   "execution_count": null,
   "id": "594a982a",
   "metadata": {},
   "outputs": [],
   "source": [
    "                                            #second solution by using loop:"
   ]
  },
  {
   "cell_type": "code",
   "execution_count": 21,
   "id": "f8709613",
   "metadata": {},
   "outputs": [
    {
     "name": "stdout",
     "output_type": "stream",
     "text": [
      "7200\n"
     ]
    }
   ],
   "source": [
    "result = 1\n",
    "for item in lst1:\n",
    "    result*=item\n",
    "\n",
    "print(result)  \n",
    "    "
   ]
  },
  {
   "cell_type": "markdown",
   "id": "1fef85c3",
   "metadata": {},
   "source": [
    "# Task4\n",
    "Write a Python program to get the smallest number from a list."
   ]
  },
  {
   "cell_type": "code",
   "execution_count": 22,
   "id": "c77b606c",
   "metadata": {},
   "outputs": [],
   "source": [
    "smallest = min(lst1)"
   ]
  },
  {
   "cell_type": "code",
   "execution_count": 23,
   "id": "0c78fc16",
   "metadata": {},
   "outputs": [
    {
     "name": "stdout",
     "output_type": "stream",
     "text": [
      "1\n"
     ]
    }
   ],
   "source": [
    "print (smallest)"
   ]
  },
  {
   "cell_type": "markdown",
   "id": "0d287243",
   "metadata": {},
   "source": [
    "# Task5\n",
    "Write a Python program to get the largest number from a list."
   ]
  },
  {
   "cell_type": "code",
   "execution_count": 25,
   "id": "29bf3a84",
   "metadata": {},
   "outputs": [],
   "source": [
    "largest = max(lst1)"
   ]
  },
  {
   "cell_type": "code",
   "execution_count": 26,
   "id": "746cc894",
   "metadata": {},
   "outputs": [
    {
     "name": "stdout",
     "output_type": "stream",
     "text": [
      "10\n"
     ]
    }
   ],
   "source": [
    "print(largest)"
   ]
  },
  {
   "cell_type": "markdown",
   "id": "b2350932",
   "metadata": {},
   "source": [
    "# Task6 \n",
    "Write a Python program to count the number of strings from a given list of \n",
    "strings."
   ]
  },
  {
   "cell_type": "code",
   "execution_count": 29,
   "id": "e73356bd",
   "metadata": {},
   "outputs": [],
   "source": [
    "lst2= [\"apple\", 123, \"banana\", True, \"orange\", \"grape\", \"mango\"]\n"
   ]
  },
  {
   "cell_type": "code",
   "execution_count": 31,
   "id": "2f773b97",
   "metadata": {},
   "outputs": [
    {
     "name": "stdout",
     "output_type": "stream",
     "text": [
      "5\n"
     ]
    }
   ],
   "source": [
    "numStrings = sum(isinstance(item,str)for item in lst2)                  # isinstance function\n",
    "print(numStrings)"
   ]
  },
  {
   "cell_type": "code",
   "execution_count": 36,
   "id": "3bd289d0",
   "metadata": {},
   "outputs": [
    {
     "name": "stdout",
     "output_type": "stream",
     "text": [
      "5\n"
     ]
    }
   ],
   "source": [
    "count = 0                                                             # by for loop and if condition \n",
    "for item in lst2:\n",
    "    if type(item) == str:\n",
    "        count += 1\n",
    "print (count)"
   ]
  },
  {
   "cell_type": "markdown",
   "id": "1eacc78b",
   "metadata": {},
   "source": [
    "# Task7\n",
    "Write a Python program to clone or copy a list"
   ]
  },
  {
   "cell_type": "code",
   "execution_count": 38,
   "id": "63bbc455",
   "metadata": {},
   "outputs": [],
   "source": [
    "lst3= lst2.copy()"
   ]
  },
  {
   "cell_type": "code",
   "execution_count": 39,
   "id": "e1aaf7b5",
   "metadata": {},
   "outputs": [
    {
     "name": "stdout",
     "output_type": "stream",
     "text": [
      "['apple', 123, 'banana', True, 'orange', 'grape', 'mango']\n"
     ]
    }
   ],
   "source": [
    "print(lst3)"
   ]
  },
  {
   "cell_type": "markdown",
   "id": "449d71c4",
   "metadata": {},
   "source": [
    "# Task8\n",
    "Write a Python program to remove item(s) from a given set.\n",
    "\n",
    "s = set([0, 1, 3, 4, 5])"
   ]
  },
  {
   "cell_type": "code",
   "execution_count": 40,
   "id": "2593788e",
   "metadata": {},
   "outputs": [],
   "source": [
    "s = set([0, 1, 3, 4, 5])\n",
    "s.remove(5)"
   ]
  },
  {
   "cell_type": "code",
   "execution_count": 41,
   "id": "82e65491",
   "metadata": {},
   "outputs": [
    {
     "name": "stdout",
     "output_type": "stream",
     "text": [
      "{0, 1, 3, 4}\n"
     ]
    }
   ],
   "source": [
    "print(s)"
   ]
  },
  {
   "cell_type": "markdown",
   "id": "f90c349e",
   "metadata": {},
   "source": [
    "# Task9\n",
    "Write a Python program to find the maximum and minimum values in a set."
   ]
  },
  {
   "cell_type": "code",
   "execution_count": 45,
   "id": "6f6e62b0",
   "metadata": {},
   "outputs": [],
   "source": [
    "maximum = max(s)\n",
    "minimum = min(s)"
   ]
  },
  {
   "cell_type": "code",
   "execution_count": 46,
   "id": "27ea9269",
   "metadata": {},
   "outputs": [
    {
     "name": "stdout",
     "output_type": "stream",
     "text": [
      "the maximum number is : 4 and the minimum number is : 0\n"
     ]
    }
   ],
   "source": [
    "print(f\"the maximum number is : {maximum} and the minimum number is : {minimum}\")"
   ]
  },
  {
   "cell_type": "markdown",
   "id": "a151e82a",
   "metadata": {},
   "source": [
    "# Task10\n",
    "Write a Python program to convert a tuple to a dictionary."
   ]
  },
  {
   "cell_type": "code",
   "execution_count": 4,
   "id": "1c606999",
   "metadata": {},
   "outputs": [
    {
     "name": "stdout",
     "output_type": "stream",
     "text": [
      "{'a': 1, 'b': 2, 'c': 3}\n"
     ]
    }
   ],
   "source": [
    "def convert_tuple_to_dict(tup):\n",
    "    return dict(tup)\n",
    "\n",
    "t1 = (('a', 1), ('b', 2), ('c', 3))\n",
    "print(convert_tuple_to_dict(t1))"
   ]
  },
  {
   "cell_type": "markdown",
   "id": "c8132b1b",
   "metadata": {},
   "source": [
    "# Task11\n",
    "Write a Python program to reverse a tuple."
   ]
  },
  {
   "cell_type": "code",
   "execution_count": 78,
   "id": "49a882d8",
   "metadata": {},
   "outputs": [],
   "source": [
    "t = (1,2,3,4,5,6)\n",
    "lst3 = list(t)"
   ]
  },
  {
   "cell_type": "code",
   "execution_count": 82,
   "id": "ea275f87",
   "metadata": {},
   "outputs": [],
   "source": [
    "lst3 = lst3[::-1]"
   ]
  },
  {
   "cell_type": "code",
   "execution_count": 83,
   "id": "1dab511d",
   "metadata": {},
   "outputs": [],
   "source": [
    "t = tuple(lst3)\n"
   ]
  },
  {
   "cell_type": "code",
   "execution_count": 85,
   "id": "c71e7b2f",
   "metadata": {},
   "outputs": [
    {
     "name": "stdout",
     "output_type": "stream",
     "text": [
      "(6, 5, 4, 3, 2, 1)\n"
     ]
    }
   ],
   "source": [
    "print (t)"
   ]
  },
  {
   "cell_type": "markdown",
   "id": "6c062c85",
   "metadata": {},
   "source": [
    "# Task12\n",
    "Write a Python program to convert a list of tuples into a dictionary"
   ]
  },
  {
   "cell_type": "code",
   "execution_count": 2,
   "id": "c3b21d48",
   "metadata": {},
   "outputs": [
    {
     "name": "stdout",
     "output_type": "stream",
     "text": [
      "{'a': 1, 'b': 2, 'c': 3}\n"
     ]
    }
   ],
   "source": [
    "def listOftupleTodict(tup):\n",
    "    return dict(tup)\n",
    "\n",
    "d1 = {'a': 1, 'b': 2, 'c': 3}\n",
    "print(listOftupleTodict(d1))"
   ]
  },
  {
   "cell_type": "markdown",
   "id": "2133456d",
   "metadata": {},
   "source": [
    "# Task13\n",
    "Write a Python program to replace the last value of tuples in a list.\n",
    "\n",
    "Sample list: [(10, 20, 40), (40, 50, 60), (70, 80, 90)]\n",
    "\n",
    "Expected Output: [(10, 20, 100), (40, 50, 100), (70, 80, 100)]\n"
   ]
  },
  {
   "cell_type": "code",
   "execution_count": 90,
   "id": "de535d71",
   "metadata": {},
   "outputs": [],
   "source": [
    "ls = [(10, 20, 40), (40, 50, 60), (70, 80, 90)]\n",
    "\n",
    "lst4 = list (ls[-1])"
   ]
  },
  {
   "cell_type": "code",
   "execution_count": 94,
   "id": "29b068a2",
   "metadata": {},
   "outputs": [
    {
     "data": {
      "text/plain": [
       "[70, 80, 100]"
      ]
     },
     "execution_count": 94,
     "metadata": {},
     "output_type": "execute_result"
    }
   ],
   "source": [
    "lst4[-1] = 100\n",
    "lst4"
   ]
  },
  {
   "cell_type": "code",
   "execution_count": 96,
   "id": "97ed6c1e",
   "metadata": {},
   "outputs": [
    {
     "data": {
      "text/plain": [
       "(70, 80, 100)"
      ]
     },
     "execution_count": 96,
     "metadata": {},
     "output_type": "execute_result"
    }
   ],
   "source": [
    "t5 = tuple (lst4)\n",
    "t5"
   ]
  },
  {
   "cell_type": "code",
   "execution_count": 97,
   "id": "1c4b8429",
   "metadata": {},
   "outputs": [],
   "source": [
    "ls[-1] = t5"
   ]
  },
  {
   "cell_type": "code",
   "execution_count": 99,
   "id": "16586f75",
   "metadata": {},
   "outputs": [
    {
     "name": "stdout",
     "output_type": "stream",
     "text": [
      "[(10, 20, 40), (40, 50, 60), (70, 80, 100)]\n"
     ]
    }
   ],
   "source": [
    "print(ls)"
   ]
  },
  {
   "cell_type": "markdown",
   "id": "076336bc",
   "metadata": {},
   "source": [
    "# Task14\n",
    "Remove the illegal characters in the variable name:\n",
    "\n",
    "var_name = \"%%6my name is ami^t\"\n",
    "\n",
    "illegal_chars = \"0123456789!@#$%^&*()-+=[]{}|\\\\;:'\\\",.<>/?~\"\n",
    "\n",
    "output is \"my name is amit\""
   ]
  },
  {
   "cell_type": "code",
   "execution_count": 138,
   "id": "c377b33b",
   "metadata": {},
   "outputs": [],
   "source": [
    "var_name = \"%%6my name is ami^t\"\n",
    "illegal_chars = \"0123456789!@#$%^&*()-+=[]{}|\\\\;:'\\\",.<>/?~\""
   ]
  },
  {
   "cell_type": "code",
   "execution_count": 139,
   "id": "90224070",
   "metadata": {},
   "outputs": [
    {
     "data": {
      "text/plain": [
       "'my name is amit'"
      ]
     },
     "execution_count": 139,
     "metadata": {},
     "output_type": "execute_result"
    }
   ],
   "source": [
    "listOfillegal = []\n",
    "\n",
    "for i in range(len(illegal_chars)) :\n",
    "    listOfillegal.append(illegal_chars[i])\n",
    "    \n",
    "for i in range (len(listOfillegal)):\n",
    "    if listOfillegal[i] in var_name:\n",
    "        var_name = var_name.replace(listOfillegal[i],\"\")\n",
    "var_name"
   ]
  },
  {
   "cell_type": "markdown",
   "id": "46bd77d7",
   "metadata": {},
   "source": [
    "# Task15\n",
    "Write a Python program to print the even and odd numbers in a series of numbers\n",
    "\n",
    "Sample numbers : numbers = (1, 2, 3, 4, 5, 6, 7, 8, 9) \n",
    "    \n",
    "Expected Output :\n",
    "    \n",
    "Number of even numbers : 2,4,6,8\n",
    "    \n",
    "Number of odd numbers : 1,3,5,7,9"
   ]
  },
  {
   "cell_type": "code",
   "execution_count": 141,
   "id": "924d0873",
   "metadata": {},
   "outputs": [],
   "source": [
    "numbers = (1, 2, 3, 4, 5, 6, 7, 8, 9)"
   ]
  },
  {
   "cell_type": "code",
   "execution_count": 145,
   "id": "890988f7",
   "metadata": {
    "collapsed": true
   },
   "outputs": [
    {
     "data": {
      "text/plain": [
       "[1, 2, 3, 4, 5, 6, 7, 8, 9]"
      ]
     },
     "execution_count": 145,
     "metadata": {},
     "output_type": "execute_result"
    }
   ],
   "source": [
    "numberlist = list(numbers)\n",
    "numberlist"
   ]
  },
  {
   "cell_type": "code",
   "execution_count": 158,
   "id": "af1a8411",
   "metadata": {},
   "outputs": [
    {
     "name": "stdout",
     "output_type": "stream",
     "text": [
      "Number of even numbers : [2, 4, 6, 8]\n",
      "Number of odd numbers : [1, 3, 5, 7, 9]\n"
     ]
    }
   ],
   "source": [
    "even = []\n",
    "odd = []\n",
    "for i in range(len(numberlist)):\n",
    "    if numberlist[i] % 2 == 0 :\n",
    "       even.append(numberlist[i])\n",
    "    else:\n",
    "        odd.append(numberlist[i])\n",
    "print (f\"Number of even numbers : {even}\")\n",
    "print (f\"Number of odd numbers : {odd}\")"
   ]
  },
  {
   "cell_type": "markdown",
   "id": "0f8fce9c",
   "metadata": {},
   "source": [
    "# Task16\n",
    "Write a Python program that iterates the integers from 1 to 50. For multiples of three print \"Fizz\" instead of the number and for multiples of five print \"Buzz\". For numbers that are multiples of three and five, print \"FizzBuzz\"."
   ]
  },
  {
   "cell_type": "code",
   "execution_count": 162,
   "id": "5985952d",
   "metadata": {},
   "outputs": [
    {
     "name": "stdout",
     "output_type": "stream",
     "text": [
      "Fizz and the number is 0\n",
      "Buzz and the number is 0\n",
      "FizzBuzz and the number is 0\n",
      "Fizz and the number is 3\n",
      "Buzz and the number is 5\n",
      "Fizz and the number is 6\n",
      "Fizz and the number is 9\n",
      "Buzz and the number is 10\n",
      "Fizz and the number is 12\n",
      "Fizz and the number is 15\n",
      "Buzz and the number is 15\n",
      "FizzBuzz and the number is 15\n",
      "Fizz and the number is 18\n",
      "Buzz and the number is 20\n",
      "Fizz and the number is 21\n",
      "Fizz and the number is 24\n",
      "Buzz and the number is 25\n",
      "Fizz and the number is 27\n",
      "Fizz and the number is 30\n",
      "Buzz and the number is 30\n",
      "FizzBuzz and the number is 30\n",
      "Fizz and the number is 33\n",
      "Buzz and the number is 35\n",
      "Fizz and the number is 36\n",
      "Fizz and the number is 39\n",
      "Buzz and the number is 40\n",
      "Fizz and the number is 42\n",
      "Fizz and the number is 45\n",
      "Buzz and the number is 45\n",
      "FizzBuzz and the number is 45\n",
      "Fizz and the number is 48\n",
      "Buzz and the number is 50\n",
      "Fizz and the number is 51\n",
      "Fizz and the number is 54\n",
      "Buzz and the number is 55\n",
      "Fizz and the number is 57\n",
      "Fizz and the number is 60\n",
      "Buzz and the number is 60\n",
      "FizzBuzz and the number is 60\n",
      "Fizz and the number is 63\n",
      "Buzz and the number is 65\n",
      "Fizz and the number is 66\n",
      "Fizz and the number is 69\n",
      "Buzz and the number is 70\n",
      "Fizz and the number is 72\n",
      "Fizz and the number is 75\n",
      "Buzz and the number is 75\n",
      "FizzBuzz and the number is 75\n",
      "Fizz and the number is 78\n",
      "Buzz and the number is 80\n",
      "Fizz and the number is 81\n",
      "Fizz and the number is 84\n",
      "Buzz and the number is 85\n",
      "Fizz and the number is 87\n",
      "Fizz and the number is 90\n",
      "Buzz and the number is 90\n",
      "FizzBuzz and the number is 90\n",
      "Fizz and the number is 93\n",
      "Buzz and the number is 95\n",
      "Fizz and the number is 96\n",
      "Fizz and the number is 99\n",
      "Buzz and the number is 100\n"
     ]
    }
   ],
   "source": [
    "for i in range (101):\n",
    "    if i%3 ==0 :\n",
    "        print (f\"Fizz and the number is {i}\")\n",
    "    if i%5 == 0 :\n",
    "        print(f\"Buzz and the number is {i}\")\n",
    "    if i%3 == 0 and i%5==0 :\n",
    "        print (f\"FizzBuzz and the number is {i}\")\n",
    "   "
   ]
  },
  {
   "cell_type": "markdown",
   "id": "504dee61",
   "metadata": {},
   "source": [
    "# Task17\n",
    "After you have finished the second session, can you explain briefly what information was learned and also what information you learned through the search?"
   ]
  },
  {
   "cell_type": "code",
   "execution_count": null,
   "id": "4711a851",
   "metadata": {},
   "outputs": [],
   "source": []
  }
 ],
 "metadata": {
  "kernelspec": {
   "display_name": "Python (textS)",
   "language": "python",
   "name": "texts"
  },
  "language_info": {
   "codemirror_mode": {
    "name": "ipython",
    "version": 3
   },
   "file_extension": ".py",
   "mimetype": "text/x-python",
   "name": "python",
   "nbconvert_exporter": "python",
   "pygments_lexer": "ipython3",
   "version": "3.9.23"
  }
 },
 "nbformat": 4,
 "nbformat_minor": 5
}
